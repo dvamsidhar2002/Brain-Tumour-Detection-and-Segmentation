{
 "cells": [
  {
   "cell_type": "markdown",
   "metadata": {},
   "source": [
    "# Vision Transformer"
   ]
  },
  {
   "cell_type": "code",
   "execution_count": 9,
   "metadata": {},
   "outputs": [
    {
     "name": "stdout",
     "output_type": "stream",
     "text": [
      "Found 2872 files belonging to 2 classes.\n",
      "Epoch 1/20\n",
      "\u001b[1m90/90\u001b[0m \u001b[32m━━━━━━━━━━━━━━━━━━━━\u001b[0m\u001b[37m\u001b[0m \u001b[1m67s\u001b[0m 570ms/step - accuracy: 0.6022 - loss: 0.6757\n",
      "Epoch 2/20\n",
      "\u001b[1m90/90\u001b[0m \u001b[32m━━━━━━━━━━━━━━━━━━━━\u001b[0m\u001b[37m\u001b[0m \u001b[1m52s\u001b[0m 579ms/step - accuracy: 0.6111 - loss: 0.6596\n",
      "Epoch 3/20\n",
      "\u001b[1m90/90\u001b[0m \u001b[32m━━━━━━━━━━━━━━━━━━━━\u001b[0m\u001b[37m\u001b[0m \u001b[1m52s\u001b[0m 573ms/step - accuracy: 0.7159 - loss: 0.5720\n",
      "Epoch 4/20\n",
      "\u001b[1m90/90\u001b[0m \u001b[32m━━━━━━━━━━━━━━━━━━━━\u001b[0m\u001b[37m\u001b[0m \u001b[1m52s\u001b[0m 576ms/step - accuracy: 0.7678 - loss: 0.5071\n",
      "Epoch 5/20\n",
      "\u001b[1m90/90\u001b[0m \u001b[32m━━━━━━━━━━━━━━━━━━━━\u001b[0m\u001b[37m\u001b[0m \u001b[1m51s\u001b[0m 563ms/step - accuracy: 0.8032 - loss: 0.4382\n",
      "Epoch 6/20\n",
      "\u001b[1m90/90\u001b[0m \u001b[32m━━━━━━━━━━━━━━━━━━━━\u001b[0m\u001b[37m\u001b[0m \u001b[1m50s\u001b[0m 550ms/step - accuracy: 0.8328 - loss: 0.3835\n",
      "Epoch 7/20\n",
      "\u001b[1m90/90\u001b[0m \u001b[32m━━━━━━━━━━━━━━━━━━━━\u001b[0m\u001b[37m\u001b[0m \u001b[1m50s\u001b[0m 552ms/step - accuracy: 0.8524 - loss: 0.3505\n",
      "Epoch 8/20\n",
      "\u001b[1m90/90\u001b[0m \u001b[32m━━━━━━━━━━━━━━━━━━━━\u001b[0m\u001b[37m\u001b[0m \u001b[1m50s\u001b[0m 557ms/step - accuracy: 0.8542 - loss: 0.3402\n",
      "Epoch 9/20\n",
      "\u001b[1m90/90\u001b[0m \u001b[32m━━━━━━━━━━━━━━━━━━━━\u001b[0m\u001b[37m\u001b[0m \u001b[1m50s\u001b[0m 555ms/step - accuracy: 0.8801 - loss: 0.2901\n",
      "Epoch 10/20\n",
      "\u001b[1m90/90\u001b[0m \u001b[32m━━━━━━━━━━━━━━━━━━━━\u001b[0m\u001b[37m\u001b[0m \u001b[1m50s\u001b[0m 556ms/step - accuracy: 0.8900 - loss: 0.2589\n",
      "Epoch 11/20\n",
      "\u001b[1m90/90\u001b[0m \u001b[32m━━━━━━━━━━━━━━━━━━━━\u001b[0m\u001b[37m\u001b[0m \u001b[1m52s\u001b[0m 574ms/step - accuracy: 0.9010 - loss: 0.2324\n",
      "Epoch 12/20\n",
      "\u001b[1m90/90\u001b[0m \u001b[32m━━━━━━━━━━━━━━━━━━━━\u001b[0m\u001b[37m\u001b[0m \u001b[1m51s\u001b[0m 560ms/step - accuracy: 0.9148 - loss: 0.2344\n",
      "Epoch 13/20\n",
      "\u001b[1m90/90\u001b[0m \u001b[32m━━━━━━━━━━━━━━━━━━━━\u001b[0m\u001b[37m\u001b[0m \u001b[1m50s\u001b[0m 550ms/step - accuracy: 0.8738 - loss: 0.2902\n",
      "Epoch 14/20\n",
      "\u001b[1m90/90\u001b[0m \u001b[32m━━━━━━━━━━━━━━━━━━━━\u001b[0m\u001b[37m\u001b[0m \u001b[1m52s\u001b[0m 579ms/step - accuracy: 0.8579 - loss: 0.3277\n",
      "Epoch 15/20\n",
      "\u001b[1m90/90\u001b[0m \u001b[32m━━━━━━━━━━━━━━━━━━━━\u001b[0m\u001b[37m\u001b[0m \u001b[1m51s\u001b[0m 566ms/step - accuracy: 0.8733 - loss: 0.2843\n",
      "Epoch 16/20\n",
      "\u001b[1m90/90\u001b[0m \u001b[32m━━━━━━━━━━━━━━━━━━━━\u001b[0m\u001b[37m\u001b[0m \u001b[1m50s\u001b[0m 551ms/step - accuracy: 0.9232 - loss: 0.2019\n",
      "Epoch 17/20\n",
      "\u001b[1m90/90\u001b[0m \u001b[32m━━━━━━━━━━━━━━━━━━━━\u001b[0m\u001b[37m\u001b[0m \u001b[1m50s\u001b[0m 550ms/step - accuracy: 0.9322 - loss: 0.1944\n",
      "Epoch 18/20\n",
      "\u001b[1m90/90\u001b[0m \u001b[32m━━━━━━━━━━━━━━━━━━━━\u001b[0m\u001b[37m\u001b[0m \u001b[1m50s\u001b[0m 549ms/step - accuracy: 0.9262 - loss: 0.1805\n",
      "Epoch 19/20\n",
      "\u001b[1m90/90\u001b[0m \u001b[32m━━━━━━━━━━━━━━━━━━━━\u001b[0m\u001b[37m\u001b[0m \u001b[1m50s\u001b[0m 550ms/step - accuracy: 0.9460 - loss: 0.1505\n",
      "Epoch 20/20\n",
      "\u001b[1m90/90\u001b[0m \u001b[32m━━━━━━━━━━━━━━━━━━━━\u001b[0m\u001b[37m\u001b[0m \u001b[1m50s\u001b[0m 553ms/step - accuracy: 0.9502 - loss: 0.1230\n"
     ]
    }
   ],
   "source": [
    "import tensorflow as tf\n",
    "from tensorflow.keras import layers, models\n",
    "\n",
    "# Set up paths\n",
    "train_path = \"F:/Brain Tumor Detection/Contour and Region based/Training\"\n",
    "batch_size = 32\n",
    "image_size = (224, 224)  # ViT models typically use 224x224 image size\n",
    "\n",
    "# Data loading and preprocessing\n",
    "train_ds = tf.keras.preprocessing.image_dataset_from_directory(\n",
    "    train_path,\n",
    "    labels=\"inferred\",\n",
    "    label_mode=\"binary\",\n",
    "    batch_size=batch_size,\n",
    "    image_size=image_size,\n",
    "    shuffle=True,\n",
    "    seed=42\n",
    ")\n",
    "\n",
    "# Normalizing the data\n",
    "normalization_layer = layers.Rescaling(1./255)\n",
    "train_ds = train_ds.map(lambda x, y: (normalization_layer(x), y))\n",
    "\n",
    "# Define the Vision Transformer model\n",
    "class VisionTransformer(tf.keras.Model):\n",
    "    def __init__(self, num_classes=1, patch_size=16, num_layers=12, num_heads=8, embed_dim=64, mlp_dim=128, image_size=224):\n",
    "        super(VisionTransformer, self).__init__()\n",
    "        self.patch_size = patch_size\n",
    "        self.num_patches = (image_size // patch_size) ** 2\n",
    "        self.projection = layers.Dense(embed_dim)\n",
    "        \n",
    "        # Positional encoding layer\n",
    "        self.positional_encoding = layers.Embedding(input_dim=self.num_patches, output_dim=embed_dim)\n",
    "        \n",
    "        # Define transformer layers\n",
    "        self.transformer_layers = [\n",
    "            layers.MultiHeadAttention(num_heads=num_heads, key_dim=embed_dim // num_heads) for _ in range(num_layers)\n",
    "        ]\n",
    "        \n",
    "        # Define MLP head for classification\n",
    "        self.mlp_head = models.Sequential([\n",
    "            layers.Dense(mlp_dim, activation=\"gelu\"),\n",
    "            layers.Dense(num_classes, activation=\"sigmoid\")\n",
    "        ])\n",
    "    \n",
    "    def call(self, x):\n",
    "        # Convert image to patches\n",
    "        batch_size = tf.shape(x)[0]\n",
    "        patch_dim = self.patch_size * self.patch_size * 3\n",
    "        x = tf.image.extract_patches(\n",
    "            images=x,\n",
    "            sizes=[1, self.patch_size, self.patch_size, 1],\n",
    "            strides=[1, self.patch_size, self.patch_size, 1],\n",
    "            rates=[1, 1, 1, 1],\n",
    "            padding=\"VALID\"\n",
    "        )\n",
    "        x = tf.reshape(x, [batch_size, self.num_patches, patch_dim])\n",
    "        \n",
    "        # Project patches to embedding space\n",
    "        x = self.projection(x)\n",
    "        \n",
    "        # Add positional encoding\n",
    "        positions = tf.range(start=0, limit=self.num_patches, delta=1)\n",
    "        x += self.positional_encoding(positions)\n",
    "        \n",
    "        # Transformer layers with residual connections\n",
    "        for transformer in self.transformer_layers:\n",
    "            x = transformer(x, x) + x  # Apply self-attention and residual connection\n",
    "        \n",
    "        # Pooling layer to aggregate features\n",
    "        x = tf.reduce_mean(x, axis=1)\n",
    "        \n",
    "        # MLP head for final output\n",
    "        return self.mlp_head(x)\n",
    "\n",
    "# Instantiate and compile the model\n",
    "model = VisionTransformer()\n",
    "\n",
    "model.compile(\n",
    "    optimizer=\"adam\",\n",
    "    loss=\"binary_crossentropy\",\n",
    "    metrics=[\"accuracy\"]\n",
    ")\n",
    "\n",
    "# Train the model\n",
    "history = model.fit(\n",
    "    train_ds,\n",
    "    epochs=20\n",
    ")\n"
   ]
  },
  {
   "cell_type": "code",
   "execution_count": 11,
   "metadata": {},
   "outputs": [
    {
     "name": "stdout",
     "output_type": "stream",
     "text": [
      "Found 1064 files belonging to 2 classes.\n",
      "\u001b[1m34/34\u001b[0m \u001b[32m━━━━━━━━━━━━━━━━━━━━\u001b[0m\u001b[37m\u001b[0m \u001b[1m8s\u001b[0m 229ms/step - accuracy: 0.8883 - loss: 0.2566\n",
      "Test Loss: 0.2170\n",
      "Test Accuracy: 0.9098\n"
     ]
    }
   ],
   "source": [
    "import tensorflow as tf\n",
    "\n",
    "# Set up the testing data path\n",
    "test_path = \"F:/Brain Tumor Detection/Contour and Region based/Testing\"\n",
    "batch_size = 32\n",
    "image_size = (224, 224)  # Image size must match the training image size\n",
    "\n",
    "# Load and preprocess the testing dataset\n",
    "test_ds = tf.keras.preprocessing.image_dataset_from_directory(\n",
    "    test_path,\n",
    "    labels=\"inferred\",\n",
    "    label_mode=\"binary\",\n",
    "    batch_size=batch_size,\n",
    "    image_size=image_size,\n",
    "    shuffle=False\n",
    ")\n",
    "\n",
    "# Normalize the testing data\n",
    "normalization_layer = tf.keras.layers.Rescaling(1./255)\n",
    "test_ds = test_ds.map(lambda x, y: (normalization_layer(x), y))\n",
    "\n",
    "# Evaluate the model on the test dataset\n",
    "test_loss, test_accuracy = model.evaluate(test_ds)\n",
    "\n",
    "print(f\"Test Loss: {test_loss:.4f}\")\n",
    "print(f\"Test Accuracy: {test_accuracy:.4f}\")\n"
   ]
  },
  {
   "cell_type": "code",
   "execution_count": 13,
   "metadata": {},
   "outputs": [
    {
     "name": "stdout",
     "output_type": "stream",
     "text": [
      "Found 1064 files belonging to 2 classes.\n",
      "\u001b[1m34/34\u001b[0m \u001b[32m━━━━━━━━━━━━━━━━━━━━\u001b[0m\u001b[37m\u001b[0m \u001b[1m8s\u001b[0m 219ms/step\n",
      "Classification Report:\n",
      "{'Non-Tumor': {'precision': 0.9422680412371134, 'recall': 0.8704761904761905, 'f1-score': 0.904950495049505, 'support': 525.0}, 'Tumor': {'precision': 0.8825561312607945, 'recall': 0.948051948051948, 'f1-score': 0.9141323792486583, 'support': 539.0}, 'accuracy': 0.9097744360902256, 'macro avg': {'precision': 0.912412086248954, 'recall': 0.9092640692640692, 'f1-score': 0.9095414371490816, 'support': 1064.0}, 'weighted avg': {'precision': 0.9120192447359518, 'recall': 0.9097744360902256, 'f1-score': 0.9096018442819708, 'support': 1064.0}}\n",
      "              precision    recall  f1-score      support\n",
      "Non-Tumor      0.942268  0.870476  0.904950   525.000000\n",
      "Tumor          0.882556  0.948052  0.914132   539.000000\n",
      "accuracy       0.909774  0.909774  0.909774     0.909774\n",
      "macro avg      0.912412  0.909264  0.909541  1064.000000\n",
      "weighted avg   0.912019  0.909774  0.909602  1064.000000\n"
     ]
    },
    {
     "data": {
      "image/png": "[encoded data removed]",
      "text/plain": [
       "<Figure size 800x600 with 2 Axes>"
      ]
     },
     "metadata": {},
     "output_type": "display_data"
    }
   ],
   "source": [
    "import tensorflow as tf\n",
    "from sklearn.metrics import classification_report, confusion_matrix\n",
    "import numpy as np\n",
    "import seaborn as sns\n",
    "import matplotlib.pyplot as plt\n",
    "\n",
    "# Set up the testing data path\n",
    "test_path = \"F:/Brain Tumor Detection/Contour and Region based/Testing\"\n",
    "batch_size = 32\n",
    "image_size = (224, 224)\n",
    "\n",
    "# Load and preprocess the testing dataset\n",
    "test_ds = tf.keras.preprocessing.image_dataset_from_directory(\n",
    "    test_path,\n",
    "    labels=\"inferred\",\n",
    "    label_mode=\"binary\",\n",
    "    batch_size=batch_size,\n",
    "    image_size=image_size,\n",
    "    shuffle=False\n",
    ")\n",
    "\n",
    "# Normalize the testing data\n",
    "normalization_layer = tf.keras.layers.Rescaling(1./255)\n",
    "test_ds = test_ds.map(lambda x, y: (normalization_layer(x), y))\n",
    "\n",
    "# Get ground truth labels and predictions\n",
    "y_true = np.concatenate([y for x, y in test_ds], axis=0)\n",
    "y_pred = model.predict(test_ds)\n",
    "y_pred = (y_pred > 0.5).astype(int).flatten()  # Convert probabilities to binary labels (0 or 1)\n",
    "\n",
    "# Generate a classification report\n",
    "report = classification_report(y_true, y_pred, target_names=['Non-Tumor', 'Tumor'], output_dict=True)\n",
    "print(\"Classification Report:\")\n",
    "print(report)\n",
    "\n",
    "# Display the report as a table\n",
    "import pandas as pd\n",
    "report_df = pd.DataFrame(report).transpose()\n",
    "print(report_df)\n",
    "\n",
    "# Plot the confusion matrix\n",
    "conf_matrix = confusion_matrix(y_true, y_pred)\n",
    "plt.figure(figsize=(8, 6))\n",
    "sns.heatmap(conf_matrix, annot=True, fmt=\"d\", cmap=\"Blues\", xticklabels=['Non-Tumor', 'Tumor'], yticklabels=['Non-Tumor', 'Tumor'])\n",
    "plt.xlabel(\"Predicted Labels\")\n",
    "plt.ylabel(\"True Labels\")\n",
    "plt.title(\"Confusion Matrix\")\n",
    "plt.show()\n"
   ]
  },
  {
   "cell_type": "code",
   "execution_count": 14,
   "metadata": {},
   "outputs": [
    {
     "name": "stderr",
     "output_type": "stream",
     "text": [
      "WARNING:absl:You are saving your model as an HDF5 file via `model.save()` or `keras.saving.save_model(model)`. This file format is considered legacy. We recommend using instead the native Keras format, e.g. `model.save('my_model.keras')` or `keras.saving.save_model(model, 'my_model.keras')`. \n"
     ]
    }
   ],
   "source": [
    "model.save('VisionTransformer.h5')"
   ]
  },
  {
   "cell_type": "code",
   "execution_count": null,
   "metadata": {},
   "outputs": [],
   "source": []
  }
 ],
 "metadata": {
  "kernelspec": {
   "display_name": "base",
   "language": "python",
   "name": "python3"
  },
  "language_info": {
   "codemirror_mode": {
    "name": "ipython",
    "version": 3
   },
   "file_extension": ".py",
   "mimetype": "text/x-python",
   "name": "python",
   "nbconvert_exporter": "python",
   "pygments_lexer": "ipython3",
   "version": "3.11.3"
  }
 },
 "nbformat": 4,
 "nbformat_minor": 2
}
